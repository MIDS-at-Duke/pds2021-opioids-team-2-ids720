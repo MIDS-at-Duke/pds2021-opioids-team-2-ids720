{
 "cells": [
  {
   "cell_type": "code",
   "execution_count": 1,
   "metadata": {},
   "outputs": [],
   "source": [
    "import pandas as pd\n",
    "import numpy as np"
   ]
  },
  {
   "cell_type": "code",
   "execution_count": 2,
   "metadata": {},
   "outputs": [],
   "source": [
    "popinc = pd.read_csv(\"https://media.githubusercontent.com/media/MIDS-at-Duke/pds2021-opioids-team-2-ids720/data_merging/20_intermediate_files/population_2000_2020_inc.csv?token=AVKGWHZO7ZIFQMTVRAD7HU3BQLT3S\")\n",
    "death = pd.read_csv(\"/Users/Aarushi/Duke/MIDS - Fall 2021/Fall 2021/720_IDS_PDS/pds2021-opioids-team-2-ids720/20_intermediate_files/vital_stata.csv\")"
   ]
  },
  {
   "cell_type": "code",
   "execution_count": 3,
   "metadata": {},
   "outputs": [
    {
     "data": {
      "text/html": [
       "<div>\n",
       "<style scoped>\n",
       "    .dataframe tbody tr th:only-of-type {\n",
       "        vertical-align: middle;\n",
       "    }\n",
       "\n",
       "    .dataframe tbody tr th {\n",
       "        vertical-align: top;\n",
       "    }\n",
       "\n",
       "    .dataframe thead th {\n",
       "        text-align: right;\n",
       "    }\n",
       "</style>\n",
       "<table border=\"1\" class=\"dataframe\">\n",
       "  <thead>\n",
       "    <tr style=\"text-align: right;\">\n",
       "      <th></th>\n",
       "      <th>STATE</th>\n",
       "      <th>COUNTY</th>\n",
       "      <th>STNAME</th>\n",
       "      <th>CTYNAME</th>\n",
       "      <th>Year</th>\n",
       "      <th>Population</th>\n",
       "      <th>State_Code</th>\n",
       "      <th>Median_Income_2010</th>\n",
       "      <th>Income_Error_Margin</th>\n",
       "    </tr>\n",
       "  </thead>\n",
       "  <tbody>\n",
       "    <tr>\n",
       "      <th>0</th>\n",
       "      <td>1</td>\n",
       "      <td>1</td>\n",
       "      <td>Alabama</td>\n",
       "      <td>Autauga County</td>\n",
       "      <td>2000</td>\n",
       "      <td>43671.0</td>\n",
       "      <td>AL</td>\n",
       "      <td>53255.0</td>\n",
       "      <td>2420.0</td>\n",
       "    </tr>\n",
       "    <tr>\n",
       "      <th>1</th>\n",
       "      <td>1</td>\n",
       "      <td>3</td>\n",
       "      <td>Alabama</td>\n",
       "      <td>Baldwin County</td>\n",
       "      <td>2000</td>\n",
       "      <td>140415.0</td>\n",
       "      <td>AL</td>\n",
       "      <td>50147.0</td>\n",
       "      <td>1046.0</td>\n",
       "    </tr>\n",
       "    <tr>\n",
       "      <th>2</th>\n",
       "      <td>1</td>\n",
       "      <td>5</td>\n",
       "      <td>Alabama</td>\n",
       "      <td>Barbour County</td>\n",
       "      <td>2000</td>\n",
       "      <td>29038.0</td>\n",
       "      <td>AL</td>\n",
       "      <td>33219.0</td>\n",
       "      <td>1889.0</td>\n",
       "    </tr>\n",
       "    <tr>\n",
       "      <th>3</th>\n",
       "      <td>1</td>\n",
       "      <td>7</td>\n",
       "      <td>Alabama</td>\n",
       "      <td>Bibb County</td>\n",
       "      <td>2000</td>\n",
       "      <td>20826.0</td>\n",
       "      <td>AL</td>\n",
       "      <td>41770.0</td>\n",
       "      <td>3139.0</td>\n",
       "    </tr>\n",
       "    <tr>\n",
       "      <th>4</th>\n",
       "      <td>1</td>\n",
       "      <td>9</td>\n",
       "      <td>Alabama</td>\n",
       "      <td>Blount County</td>\n",
       "      <td>2000</td>\n",
       "      <td>51024.0</td>\n",
       "      <td>AL</td>\n",
       "      <td>45549.0</td>\n",
       "      <td>1804.0</td>\n",
       "    </tr>\n",
       "  </tbody>\n",
       "</table>\n",
       "</div>"
      ],
      "text/plain": [
       "   STATE  COUNTY   STNAME         CTYNAME  Year  Population State_Code  \\\n",
       "0      1       1  Alabama  Autauga County  2000     43671.0         AL   \n",
       "1      1       3  Alabama  Baldwin County  2000    140415.0         AL   \n",
       "2      1       5  Alabama  Barbour County  2000     29038.0         AL   \n",
       "3      1       7  Alabama     Bibb County  2000     20826.0         AL   \n",
       "4      1       9  Alabama   Blount County  2000     51024.0         AL   \n",
       "\n",
       "   Median_Income_2010  Income_Error_Margin  \n",
       "0             53255.0               2420.0  \n",
       "1             50147.0               1046.0  \n",
       "2             33219.0               1889.0  \n",
       "3             41770.0               3139.0  \n",
       "4             45549.0               1804.0  "
      ]
     },
     "execution_count": 3,
     "metadata": {},
     "output_type": "execute_result"
    }
   ],
   "source": [
    "popinc.head()"
   ]
  },
  {
   "cell_type": "code",
   "execution_count": 4,
   "metadata": {},
   "outputs": [
    {
     "name": "stdout",
     "output_type": "stream",
     "text": [
      "<class 'pandas.core.frame.DataFrame'>\n",
      "RangeIndex: 65373 entries, 0 to 65372\n",
      "Data columns (total 9 columns):\n",
      " #   Column               Non-Null Count  Dtype  \n",
      "---  ------               --------------  -----  \n",
      " 0   STATE                65373 non-null  int64  \n",
      " 1   COUNTY               65373 non-null  int64  \n",
      " 2   STNAME               65373 non-null  object \n",
      " 3   CTYNAME              65373 non-null  object \n",
      " 4   Year                 65373 non-null  int64  \n",
      " 5   Population           65339 non-null  float64\n",
      " 6   State_Code           65373 non-null  object \n",
      " 7   Median_Income_2010   64512 non-null  float64\n",
      " 8   Income_Error_Margin  64512 non-null  float64\n",
      "dtypes: float64(3), int64(3), object(3)\n",
      "memory usage: 4.5+ MB\n"
     ]
    }
   ],
   "source": [
    "popinc.info()"
   ]
  },
  {
   "cell_type": "code",
   "execution_count": 5,
   "metadata": {},
   "outputs": [
    {
     "data": {
      "text/html": [
       "<div>\n",
       "<style scoped>\n",
       "    .dataframe tbody tr th:only-of-type {\n",
       "        vertical-align: middle;\n",
       "    }\n",
       "\n",
       "    .dataframe tbody tr th {\n",
       "        vertical-align: top;\n",
       "    }\n",
       "\n",
       "    .dataframe thead th {\n",
       "        text-align: right;\n",
       "    }\n",
       "</style>\n",
       "<table border=\"1\" class=\"dataframe\">\n",
       "  <thead>\n",
       "    <tr style=\"text-align: right;\">\n",
       "      <th></th>\n",
       "      <th>Unnamed: 0</th>\n",
       "      <th>County</th>\n",
       "      <th>County Code</th>\n",
       "      <th>Year</th>\n",
       "      <th>Drug/Alcohol Induced Cause</th>\n",
       "      <th>Drug/Alcohol Induced Cause Code</th>\n",
       "      <th>Deaths</th>\n",
       "      <th>State_Code</th>\n",
       "      <th>County_Name</th>\n",
       "    </tr>\n",
       "  </thead>\n",
       "  <tbody>\n",
       "    <tr>\n",
       "      <th>0</th>\n",
       "      <td>1</td>\n",
       "      <td>Baldwin County, AL</td>\n",
       "      <td>1003.0</td>\n",
       "      <td>2003-01-01</td>\n",
       "      <td>Drug poisonings (overdose) Unintentional (X40-...</td>\n",
       "      <td>D1</td>\n",
       "      <td>10.0</td>\n",
       "      <td>AL</td>\n",
       "      <td>Baldwin County</td>\n",
       "    </tr>\n",
       "    <tr>\n",
       "      <th>1</th>\n",
       "      <td>38</td>\n",
       "      <td>Jefferson County, AL</td>\n",
       "      <td>1073.0</td>\n",
       "      <td>2003-01-01</td>\n",
       "      <td>Drug poisonings (overdose) Unintentional (X40-...</td>\n",
       "      <td>D1</td>\n",
       "      <td>37.0</td>\n",
       "      <td>AL</td>\n",
       "      <td>Jefferson County</td>\n",
       "    </tr>\n",
       "    <tr>\n",
       "      <th>2</th>\n",
       "      <td>54</td>\n",
       "      <td>Mobile County, AL</td>\n",
       "      <td>1097.0</td>\n",
       "      <td>2003-01-01</td>\n",
       "      <td>Drug poisonings (overdose) Unintentional (X40-...</td>\n",
       "      <td>D1</td>\n",
       "      <td>26.0</td>\n",
       "      <td>AL</td>\n",
       "      <td>Mobile County</td>\n",
       "    </tr>\n",
       "    <tr>\n",
       "      <th>3</th>\n",
       "      <td>106</td>\n",
       "      <td>Cochise County, AZ</td>\n",
       "      <td>4003.0</td>\n",
       "      <td>2003-01-01</td>\n",
       "      <td>Drug poisonings (overdose) Unintentional (X40-...</td>\n",
       "      <td>D1</td>\n",
       "      <td>11.0</td>\n",
       "      <td>AZ</td>\n",
       "      <td>Cochise County</td>\n",
       "    </tr>\n",
       "    <tr>\n",
       "      <th>4</th>\n",
       "      <td>109</td>\n",
       "      <td>Coconino County, AZ</td>\n",
       "      <td>4005.0</td>\n",
       "      <td>2003-01-01</td>\n",
       "      <td>Drug poisonings (overdose) Unintentional (X40-...</td>\n",
       "      <td>D1</td>\n",
       "      <td>11.0</td>\n",
       "      <td>AZ</td>\n",
       "      <td>Coconino County</td>\n",
       "    </tr>\n",
       "  </tbody>\n",
       "</table>\n",
       "</div>"
      ],
      "text/plain": [
       "   Unnamed: 0                County  County Code        Year  \\\n",
       "0           1    Baldwin County, AL       1003.0  2003-01-01   \n",
       "1          38  Jefferson County, AL       1073.0  2003-01-01   \n",
       "2          54     Mobile County, AL       1097.0  2003-01-01   \n",
       "3         106    Cochise County, AZ       4003.0  2003-01-01   \n",
       "4         109   Coconino County, AZ       4005.0  2003-01-01   \n",
       "\n",
       "                          Drug/Alcohol Induced Cause  \\\n",
       "0  Drug poisonings (overdose) Unintentional (X40-...   \n",
       "1  Drug poisonings (overdose) Unintentional (X40-...   \n",
       "2  Drug poisonings (overdose) Unintentional (X40-...   \n",
       "3  Drug poisonings (overdose) Unintentional (X40-...   \n",
       "4  Drug poisonings (overdose) Unintentional (X40-...   \n",
       "\n",
       "  Drug/Alcohol Induced Cause Code Deaths State_Code       County_Name  \n",
       "0                              D1   10.0         AL    Baldwin County  \n",
       "1                              D1   37.0         AL  Jefferson County  \n",
       "2                              D1   26.0         AL     Mobile County  \n",
       "3                              D1   11.0         AZ    Cochise County  \n",
       "4                              D1   11.0         AZ   Coconino County  "
      ]
     },
     "execution_count": 5,
     "metadata": {},
     "output_type": "execute_result"
    }
   ],
   "source": [
    "death.head()"
   ]
  },
  {
   "cell_type": "code",
   "execution_count": 6,
   "metadata": {},
   "outputs": [],
   "source": [
    "death[\"YEAR\"] = pd.DatetimeIndex(death[\"Year\"]).year"
   ]
  },
  {
   "cell_type": "code",
   "execution_count": 7,
   "metadata": {},
   "outputs": [
    {
     "name": "stdout",
     "output_type": "stream",
     "text": [
      "<class 'pandas.core.frame.DataFrame'>\n",
      "RangeIndex: 9758 entries, 0 to 9757\n",
      "Data columns (total 10 columns):\n",
      " #   Column                           Non-Null Count  Dtype  \n",
      "---  ------                           --------------  -----  \n",
      " 0   Unnamed: 0                       9758 non-null   int64  \n",
      " 1   County                           9758 non-null   object \n",
      " 2   County Code                      9758 non-null   float64\n",
      " 3   Year                             9758 non-null   object \n",
      " 4   Drug/Alcohol Induced Cause       9758 non-null   object \n",
      " 5   Drug/Alcohol Induced Cause Code  9758 non-null   object \n",
      " 6   Deaths                           9758 non-null   object \n",
      " 7   State_Code                       9758 non-null   object \n",
      " 8   County_Name                      9758 non-null   object \n",
      " 9   YEAR                             9758 non-null   int64  \n",
      "dtypes: float64(1), int64(2), object(7)\n",
      "memory usage: 762.5+ KB\n"
     ]
    }
   ],
   "source": [
    "death.info()"
   ]
  },
  {
   "cell_type": "code",
   "execution_count": 8,
   "metadata": {},
   "outputs": [
    {
     "name": "stdout",
     "output_type": "stream",
     "text": [
      "<class 'pandas.core.frame.DataFrame'>\n",
      "RangeIndex: 9758 entries, 0 to 9757\n",
      "Data columns (total 10 columns):\n",
      " #   Column                           Non-Null Count  Dtype  \n",
      "---  ------                           --------------  -----  \n",
      " 0   Unnamed: 0                       9758 non-null   int64  \n",
      " 1   County                           9758 non-null   object \n",
      " 2   County Code                      9758 non-null   float64\n",
      " 3   Year                             9758 non-null   object \n",
      " 4   Drug/Alcohol Induced Cause       9758 non-null   object \n",
      " 5   Drug/Alcohol Induced Cause Code  9758 non-null   object \n",
      " 6   Deaths                           9758 non-null   object \n",
      " 7   State_Code                       9758 non-null   object \n",
      " 8   County_Name                      9758 non-null   object \n",
      " 9   YEAR                             9758 non-null   int64  \n",
      "dtypes: float64(1), int64(2), object(7)\n",
      "memory usage: 762.5+ KB\n"
     ]
    }
   ],
   "source": [
    "death.info()"
   ]
  },
  {
   "cell_type": "code",
   "execution_count": 9,
   "metadata": {},
   "outputs": [],
   "source": [
    "death.drop(\"Unnamed: 0\", axis = 1, inplace=True)"
   ]
  },
  {
   "cell_type": "code",
   "execution_count": 12,
   "metadata": {},
   "outputs": [
    {
     "ename": "KeyError",
     "evalue": "['CTYNAME', 'State_Code']",
     "output_type": "error",
     "traceback": [
      "\u001b[0;31m---------------------------------------------------------------------------\u001b[0m",
      "\u001b[0;31mKeyError\u001b[0m                                  Traceback (most recent call last)",
      "\u001b[0;32m/var/folders/01/5cwkh1qx51s66l5bqmy3qfs80000gn/T/ipykernel_29851/3591933565.py\u001b[0m in \u001b[0;36m<module>\u001b[0;34m\u001b[0m\n\u001b[1;32m      1\u001b[0m \u001b[0;31m# Mergeing Population with Deaths\u001b[0m\u001b[0;34m\u001b[0m\u001b[0;34m\u001b[0m\u001b[0;34m\u001b[0m\u001b[0m\n\u001b[0;32m----> 2\u001b[0;31m merged = death.merge(\n\u001b[0m\u001b[1;32m      3\u001b[0m     \u001b[0mpopinc\u001b[0m\u001b[0;34m[\u001b[0m\u001b[0;34m[\u001b[0m\u001b[0;34m\"CTYNAME\"\u001b[0m\u001b[0;34m,\u001b[0m\u001b[0;34m\"State_Code\"\u001b[0m\u001b[0;34m,\u001b[0m\u001b[0;34m\"Population\"\u001b[0m\u001b[0;34m,\u001b[0m \u001b[0;34m\"Median_Income_2010\"\u001b[0m\u001b[0;34m,\u001b[0m \u001b[0;34m\"Income_Error_Margin\"\u001b[0m\u001b[0;34m]\u001b[0m\u001b[0;34m]\u001b[0m\u001b[0;34m,\u001b[0m\u001b[0;34m\u001b[0m\u001b[0;34m\u001b[0m\u001b[0m\n\u001b[1;32m      4\u001b[0m     \u001b[0mhow\u001b[0m\u001b[0;34m=\u001b[0m\u001b[0;34m\"left\"\u001b[0m\u001b[0;34m,\u001b[0m\u001b[0;34m\u001b[0m\u001b[0;34m\u001b[0m\u001b[0m\n\u001b[1;32m      5\u001b[0m     \u001b[0mleft_on\u001b[0m\u001b[0;34m=\u001b[0m\u001b[0;34m[\u001b[0m\u001b[0;34m[\u001b[0m\u001b[0;34m\"State_Code\"\u001b[0m\u001b[0;34m,\u001b[0m \u001b[0;34m\"County_Name\"\u001b[0m\u001b[0;34m]\u001b[0m\u001b[0;34m]\u001b[0m\u001b[0;34m,\u001b[0m\u001b[0;34m\u001b[0m\u001b[0;34m\u001b[0m\u001b[0m\n",
      "\u001b[0;32m~/opt/miniconda3/lib/python3.9/site-packages/pandas/core/frame.py\u001b[0m in \u001b[0;36mmerge\u001b[0;34m(self, right, how, on, left_on, right_on, left_index, right_index, sort, suffixes, copy, indicator, validate)\u001b[0m\n\u001b[1;32m   9184\u001b[0m         \u001b[0;32mfrom\u001b[0m \u001b[0mpandas\u001b[0m\u001b[0;34m.\u001b[0m\u001b[0mcore\u001b[0m\u001b[0;34m.\u001b[0m\u001b[0mreshape\u001b[0m\u001b[0;34m.\u001b[0m\u001b[0mmerge\u001b[0m \u001b[0;32mimport\u001b[0m \u001b[0mmerge\u001b[0m\u001b[0;34m\u001b[0m\u001b[0;34m\u001b[0m\u001b[0m\n\u001b[1;32m   9185\u001b[0m \u001b[0;34m\u001b[0m\u001b[0m\n\u001b[0;32m-> 9186\u001b[0;31m         return merge(\n\u001b[0m\u001b[1;32m   9187\u001b[0m             \u001b[0mself\u001b[0m\u001b[0;34m,\u001b[0m\u001b[0;34m\u001b[0m\u001b[0;34m\u001b[0m\u001b[0m\n\u001b[1;32m   9188\u001b[0m             \u001b[0mright\u001b[0m\u001b[0;34m,\u001b[0m\u001b[0;34m\u001b[0m\u001b[0;34m\u001b[0m\u001b[0m\n",
      "\u001b[0;32m~/opt/miniconda3/lib/python3.9/site-packages/pandas/core/reshape/merge.py\u001b[0m in \u001b[0;36mmerge\u001b[0;34m(left, right, how, on, left_on, right_on, left_index, right_index, sort, suffixes, copy, indicator, validate)\u001b[0m\n\u001b[1;32m    105\u001b[0m     \u001b[0mvalidate\u001b[0m\u001b[0;34m:\u001b[0m \u001b[0mstr\u001b[0m \u001b[0;34m|\u001b[0m \u001b[0;32mNone\u001b[0m \u001b[0;34m=\u001b[0m \u001b[0;32mNone\u001b[0m\u001b[0;34m,\u001b[0m\u001b[0;34m\u001b[0m\u001b[0;34m\u001b[0m\u001b[0m\n\u001b[1;32m    106\u001b[0m ) -> DataFrame:\n\u001b[0;32m--> 107\u001b[0;31m     op = _MergeOperation(\n\u001b[0m\u001b[1;32m    108\u001b[0m         \u001b[0mleft\u001b[0m\u001b[0;34m,\u001b[0m\u001b[0;34m\u001b[0m\u001b[0;34m\u001b[0m\u001b[0m\n\u001b[1;32m    109\u001b[0m         \u001b[0mright\u001b[0m\u001b[0;34m,\u001b[0m\u001b[0;34m\u001b[0m\u001b[0;34m\u001b[0m\u001b[0m\n",
      "\u001b[0;32m~/opt/miniconda3/lib/python3.9/site-packages/pandas/core/reshape/merge.py\u001b[0m in \u001b[0;36m__init__\u001b[0;34m(self, left, right, how, on, left_on, right_on, axis, left_index, right_index, sort, suffixes, copy, indicator, validate)\u001b[0m\n\u001b[1;32m    698\u001b[0m             \u001b[0mself\u001b[0m\u001b[0;34m.\u001b[0m\u001b[0mright_join_keys\u001b[0m\u001b[0;34m,\u001b[0m\u001b[0;34m\u001b[0m\u001b[0;34m\u001b[0m\u001b[0m\n\u001b[1;32m    699\u001b[0m             \u001b[0mself\u001b[0m\u001b[0;34m.\u001b[0m\u001b[0mjoin_names\u001b[0m\u001b[0;34m,\u001b[0m\u001b[0;34m\u001b[0m\u001b[0;34m\u001b[0m\u001b[0m\n\u001b[0;32m--> 700\u001b[0;31m         ) = self._get_merge_keys()\n\u001b[0m\u001b[1;32m    701\u001b[0m \u001b[0;34m\u001b[0m\u001b[0m\n\u001b[1;32m    702\u001b[0m         \u001b[0;31m# validate the merge keys dtypes. We may need to coerce\u001b[0m\u001b[0;34m\u001b[0m\u001b[0;34m\u001b[0m\u001b[0;34m\u001b[0m\u001b[0m\n",
      "\u001b[0;32m~/opt/miniconda3/lib/python3.9/site-packages/pandas/core/reshape/merge.py\u001b[0m in \u001b[0;36m_get_merge_keys\u001b[0;34m(self)\u001b[0m\n\u001b[1;32m   1090\u001b[0m                     \u001b[0;32mif\u001b[0m \u001b[0;32mnot\u001b[0m \u001b[0mis_rkey\u001b[0m\u001b[0;34m(\u001b[0m\u001b[0mrk\u001b[0m\u001b[0;34m)\u001b[0m\u001b[0;34m:\u001b[0m\u001b[0;34m\u001b[0m\u001b[0;34m\u001b[0m\u001b[0m\n\u001b[1;32m   1091\u001b[0m                         \u001b[0;32mif\u001b[0m \u001b[0mrk\u001b[0m \u001b[0;32mis\u001b[0m \u001b[0;32mnot\u001b[0m \u001b[0;32mNone\u001b[0m\u001b[0;34m:\u001b[0m\u001b[0;34m\u001b[0m\u001b[0;34m\u001b[0m\u001b[0m\n\u001b[0;32m-> 1092\u001b[0;31m                             \u001b[0mright_keys\u001b[0m\u001b[0;34m.\u001b[0m\u001b[0mappend\u001b[0m\u001b[0;34m(\u001b[0m\u001b[0mright\u001b[0m\u001b[0;34m.\u001b[0m\u001b[0m_get_label_or_level_values\u001b[0m\u001b[0;34m(\u001b[0m\u001b[0mrk\u001b[0m\u001b[0;34m)\u001b[0m\u001b[0;34m)\u001b[0m\u001b[0;34m\u001b[0m\u001b[0;34m\u001b[0m\u001b[0m\n\u001b[0m\u001b[1;32m   1093\u001b[0m                         \u001b[0;32melse\u001b[0m\u001b[0;34m:\u001b[0m\u001b[0;34m\u001b[0m\u001b[0;34m\u001b[0m\u001b[0m\n\u001b[1;32m   1094\u001b[0m                             \u001b[0;31m# work-around for merge_asof(right_index=True)\u001b[0m\u001b[0;34m\u001b[0m\u001b[0;34m\u001b[0m\u001b[0;34m\u001b[0m\u001b[0m\n",
      "\u001b[0;32m~/opt/miniconda3/lib/python3.9/site-packages/pandas/core/generic.py\u001b[0m in \u001b[0;36m_get_label_or_level_values\u001b[0;34m(self, key, axis)\u001b[0m\n\u001b[1;32m   1777\u001b[0m             \u001b[0mvalues\u001b[0m \u001b[0;34m=\u001b[0m \u001b[0mself\u001b[0m\u001b[0;34m.\u001b[0m\u001b[0maxes\u001b[0m\u001b[0;34m[\u001b[0m\u001b[0maxis\u001b[0m\u001b[0;34m]\u001b[0m\u001b[0;34m.\u001b[0m\u001b[0mget_level_values\u001b[0m\u001b[0;34m(\u001b[0m\u001b[0mkey\u001b[0m\u001b[0;34m)\u001b[0m\u001b[0;34m.\u001b[0m\u001b[0m_values\u001b[0m\u001b[0;34m\u001b[0m\u001b[0;34m\u001b[0m\u001b[0m\n\u001b[1;32m   1778\u001b[0m         \u001b[0;32melse\u001b[0m\u001b[0;34m:\u001b[0m\u001b[0;34m\u001b[0m\u001b[0;34m\u001b[0m\u001b[0m\n\u001b[0;32m-> 1779\u001b[0;31m             \u001b[0;32mraise\u001b[0m \u001b[0mKeyError\u001b[0m\u001b[0;34m(\u001b[0m\u001b[0mkey\u001b[0m\u001b[0;34m)\u001b[0m\u001b[0;34m\u001b[0m\u001b[0;34m\u001b[0m\u001b[0m\n\u001b[0m\u001b[1;32m   1780\u001b[0m \u001b[0;34m\u001b[0m\u001b[0m\n\u001b[1;32m   1781\u001b[0m         \u001b[0;31m# Check for duplicates\u001b[0m\u001b[0;34m\u001b[0m\u001b[0;34m\u001b[0m\u001b[0;34m\u001b[0m\u001b[0m\n",
      "\u001b[0;31mKeyError\u001b[0m: ['CTYNAME', 'State_Code']"
     ]
    }
   ],
   "source": [
    "# Mergeing Population with Deaths\n",
    "merged = death.merge(\n",
    "    popinc[[\"CTYNAME\",\"State_Code\",\"Population\", \"Median_Income_2010\", \"Income_Error_Margin\"]],\n",
    "    how=\"left\",\n",
    "    left_on=[[\"State_Code\", \"County_Name\"]],\n",
    "    right_on=[[\"CTYNAME\", \"State_Code\"]],\n",
    ")\n",
    "\n",
    "# merged = (\n",
    "#     popn.merge(\n",
    "#         raw_df[[\"STATE\", \"COUNTY\", \"Median_Income_2010\", \"Income_Error_Margin\"]],\n",
    "#         how=\"left\",\n",
    "#         left_on=[\"STNAME\", \"CTYNAME\"],\n",
    "#         right_on=[\"STATE\", \"COUNTY\"],\n",
    "#     )\n",
    "#     .drop(columns=[\"STATE_y\", \"COUNTY_y\"])\n",
    "#     .rename({\"STATE_x\": \"STATE\", \"COUNTY_x\": \"COUNTY\"}, axis=1)\n",
    "# )\n"
   ]
  },
  {
   "cell_type": "code",
   "execution_count": null,
   "metadata": {},
   "outputs": [],
   "source": []
  },
  {
   "cell_type": "code",
   "execution_count": null,
   "metadata": {},
   "outputs": [],
   "source": []
  }
 ],
 "metadata": {
  "interpreter": {
   "hash": "2a0d314bcf4c2e7c6411a0e0bd02b40731b5df63af2f6a0dd8418aa9ff448c87"
  },
  "kernelspec": {
   "display_name": "Python 3.9.6 64-bit ('base': conda)",
   "name": "python3"
  },
  "language_info": {
   "codemirror_mode": {
    "name": "ipython",
    "version": 3
   },
   "file_extension": ".py",
   "mimetype": "text/x-python",
   "name": "python",
   "nbconvert_exporter": "python",
   "pygments_lexer": "ipython3",
   "version": "3.9.6"
  },
  "orig_nbformat": 4
 },
 "nbformat": 4,
 "nbformat_minor": 2
}
