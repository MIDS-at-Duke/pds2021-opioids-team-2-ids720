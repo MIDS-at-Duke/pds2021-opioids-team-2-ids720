{
 "cells": [
  {
   "cell_type": "code",
   "execution_count": 19,
   "metadata": {},
   "outputs": [],
   "source": [
    "import pandas as pd\n",
    "import numpy as np\n",
    "\n",
    "death_03_df = pd.read_csv(\"/mnt/c/Users/sdona/Documents/Duke/720IDS/Mid-SemesterProject/pds2021-opioids-team-2-ids720/00_source_data/US_VitalStatistics/Underlying Cause of Death, 2003.txt\", sep=\"\\t\")\n",
    "death_04_df = pd.read_csv(\"/mnt/c/Users/sdona/Documents/Duke/720IDS/Mid-SemesterProject/pds2021-opioids-team-2-ids720/00_source_data/US_VitalStatistics/Underlying Cause of Death, 2004.txt\", sep=\"\\t\")\n",
    "death_05_df = pd.read_csv(\"/mnt/c/Users/sdona/Documents/Duke/720IDS/Mid-SemesterProject/pds2021-opioids-team-2-ids720/00_source_data/US_VitalStatistics/Underlying Cause of Death, 2005.txt\", sep=\"\\t\")\n",
    "death_06_df = pd.read_csv(\"/mnt/c/Users/sdona/Documents/Duke/720IDS/Mid-SemesterProject/pds2021-opioids-team-2-ids720/00_source_data/US_VitalStatistics/Underlying Cause of Death, 2006.txt\", sep=\"\\t\")\n",
    "death_07_df = pd.read_csv(\"/mnt/c/Users/sdona/Documents/Duke/720IDS/Mid-SemesterProject/pds2021-opioids-team-2-ids720/00_source_data/US_VitalStatistics/Underlying Cause of Death, 2007.txt\", sep=\"\\t\")\n",
    "death_08_df = pd.read_csv(\"/mnt/c/Users/sdona/Documents/Duke/720IDS/Mid-SemesterProject/pds2021-opioids-team-2-ids720/00_source_data/US_VitalStatistics/Underlying Cause of Death, 2008.txt\", sep=\"\\t\")\n",
    "death_09_df = pd.read_csv(\"/mnt/c/Users/sdona/Documents/Duke/720IDS/Mid-SemesterProject/pds2021-opioids-team-2-ids720/00_source_data/US_VitalStatistics/Underlying Cause of Death, 2009.txt\", sep=\"\\t\")\n",
    "death_10_df = pd.read_csv(\"/mnt/c/Users/sdona/Documents/Duke/720IDS/Mid-SemesterProject/pds2021-opioids-team-2-ids720/00_source_data/US_VitalStatistics/Underlying Cause of Death, 2010.txt\", sep=\"\\t\")\n",
    "death_11_df = pd.read_csv(\"/mnt/c/Users/sdona/Documents/Duke/720IDS/Mid-SemesterProject/pds2021-opioids-team-2-ids720/00_source_data/US_VitalStatistics/Underlying Cause of Death, 2011.txt\", sep=\"\\t\")\n",
    "death_12_df = pd.read_csv(\"/mnt/c/Users/sdona/Documents/Duke/720IDS/Mid-SemesterProject/pds2021-opioids-team-2-ids720/00_source_data/US_VitalStatistics/Underlying Cause of Death, 2012.txt\", sep=\"\\t\")\n",
    "death_13_df = pd.read_csv(\"/mnt/c/Users/sdona/Documents/Duke/720IDS/Mid-SemesterProject/pds2021-opioids-team-2-ids720/00_source_data/US_VitalStatistics/Underlying Cause of Death, 2013.txt\", sep=\"\\t\")\n",
    "death_14_df = pd.read_csv(\"/mnt/c/Users/sdona/Documents/Duke/720IDS/Mid-SemesterProject/pds2021-opioids-team-2-ids720/00_source_data/US_VitalStatistics/Underlying Cause of Death, 2014.txt\", sep=\"\\t\")\n",
    "death_15_df = pd.read_csv(\"/mnt/c/Users/sdona/Documents/Duke/720IDS/Mid-SemesterProject/pds2021-opioids-team-2-ids720/00_source_data/US_VitalStatistics/Underlying Cause of Death, 2015.txt\", sep=\"\\t\")\n",
    "\n",
    "ship_06_df = pd.read_csv(\"/mnt/c/Users/sdona/Documents/Duke/720IDS/Mid-SemesterProject/pds2021-opioids-team-2-ids720/00_source_data/shipment_data/buyer_monthly2006.csv\")\n",
    "ship_07_df = pd.read_csv(\"/mnt/c/Users/sdona/Documents/Duke/720IDS/Mid-SemesterProject/pds2021-opioids-team-2-ids720/00_source_data/shipment_data/buyer_monthly2007.csv\")\n",
    "ship_08_df = pd.read_csv(\"/mnt/c/Users/sdona/Documents/Duke/720IDS/Mid-SemesterProject/pds2021-opioids-team-2-ids720/00_source_data/shipment_data/buyer_monthly2008.csv\")\n",
    "ship_09_df = pd.read_csv(\"/mnt/c/Users/sdona/Documents/Duke/720IDS/Mid-SemesterProject/pds2021-opioids-team-2-ids720/00_source_data/shipment_data/buyer_monthly2009.csv\")\n",
    "ship_10_df = pd.read_csv(\"/mnt/c/Users/sdona/Documents/Duke/720IDS/Mid-SemesterProject/pds2021-opioids-team-2-ids720/00_source_data/shipment_data/buyer_monthly2010.csv\")\n",
    "ship_11_df = pd.read_csv(\"/mnt/c/Users/sdona/Documents/Duke/720IDS/Mid-SemesterProject/pds2021-opioids-team-2-ids720/00_source_data/shipment_data/buyer_monthly2011.csv\")\n",
    "ship_12_df = pd.read_csv(\"/mnt/c/Users/sdona/Documents/Duke/720IDS/Mid-SemesterProject/pds2021-opioids-team-2-ids720/00_source_data/shipment_data/buyer_monthly2012.csv\")\n",
    "ship_13_df = pd.read_csv(\"/mnt/c/Users/sdona/Documents/Duke/720IDS/Mid-SemesterProject/pds2021-opioids-team-2-ids720/00_source_data/shipment_data/buyer_monthly2013.csv\")\n",
    "ship_14_df = pd.read_csv(\"/mnt/c/Users/sdona/Documents/Duke/720IDS/Mid-SemesterProject/pds2021-opioids-team-2-ids720/00_source_data/shipment_data/buyer_monthly2014.csv\")\n",
    "\n",
    "pop_county_df = pd.read_csv(\"/mnt/c/Users/sdona/Documents/Duke/720IDS/Mid-SemesterProject/pds2021-opioids-team-2-ids720/00_source_data/population_data/pop_counties_20062014.csv\")\n",
    "pop_state_df = pd.read_csv(\"/mnt/c/Users/sdona/Documents/Duke/720IDS/Mid-SemesterProject/pds2021-opioids-team-2-ids720/00_source_data/population_data/pop_states_20062014.csv\")\n",
    "\n"
   ]
  }
 ],
 "metadata": {
  "interpreter": {
   "hash": "e54be2c2f2c714dbea999381e10a460e1be5599ab6d08bf317a5bed3c70e3512"
  },
  "kernelspec": {
   "display_name": "Python 3.9.5 64-bit ('base': conda)",
   "name": "python3"
  },
  "language_info": {
   "codemirror_mode": {
    "name": "ipython",
    "version": 3
   },
   "file_extension": ".py",
   "mimetype": "text/x-python",
   "name": "python",
   "nbconvert_exporter": "python",
   "pygments_lexer": "ipython3",
   "version": "3.9.5"
  },
  "orig_nbformat": 4
 },
 "nbformat": 4,
 "nbformat_minor": 2
}
